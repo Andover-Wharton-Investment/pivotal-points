{
 "cells": [
  {
   "cell_type": "code",
   "execution_count": 1,
   "metadata": {},
   "outputs": [],
   "source": [
    "import pandas as pd\n",
    "import numpy as np"
   ]
  },
  {
   "cell_type": "code",
   "execution_count": 2,
   "metadata": {},
   "outputs": [],
   "source": [
    "df = pd.read_csv('historical_correlation.csv')"
   ]
  },
  {
   "cell_type": "code",
   "execution_count": 3,
   "metadata": {},
   "outputs": [
    {
     "data": {
      "text/html": [
       "<div>\n",
       "<style scoped>\n",
       "    .dataframe tbody tr th:only-of-type {\n",
       "        vertical-align: middle;\n",
       "    }\n",
       "\n",
       "    .dataframe tbody tr th {\n",
       "        vertical-align: top;\n",
       "    }\n",
       "\n",
       "    .dataframe thead th {\n",
       "        text-align: right;\n",
       "    }\n",
       "</style>\n",
       "<table border=\"1\" class=\"dataframe\">\n",
       "  <thead>\n",
       "    <tr style=\"text-align: right;\">\n",
       "      <th></th>\n",
       "      <th>Date</th>\n",
       "      <th>ticker</th>\n",
       "      <th>20 day trend</th>\n",
       "      <th>60 day trend</th>\n",
       "      <th>Volume</th>\n",
       "      <th>RSI</th>\n",
       "      <th>Pivotal</th>\n",
       "      <th>5 day return</th>\n",
       "      <th>20 day return</th>\n",
       "      <th>60 day return</th>\n",
       "      <th>One year return</th>\n",
       "    </tr>\n",
       "  </thead>\n",
       "  <tbody>\n",
       "    <tr>\n",
       "      <th>0</th>\n",
       "      <td>1962-03-28</td>\n",
       "      <td>DIS</td>\n",
       "      <td>-0.0163</td>\n",
       "      <td>0.0075</td>\n",
       "      <td>-0.8428</td>\n",
       "      <td>0.485949</td>\n",
       "      <td>0.0</td>\n",
       "      <td>0.0068</td>\n",
       "      <td>-0.0068</td>\n",
       "      <td>-0.2561</td>\n",
       "      <td>-0.0344</td>\n",
       "    </tr>\n",
       "    <tr>\n",
       "      <th>1</th>\n",
       "      <td>1962-03-28</td>\n",
       "      <td>AA</td>\n",
       "      <td>0.0578</td>\n",
       "      <td>0.0823</td>\n",
       "      <td>-0.0701</td>\n",
       "      <td>-0.031907</td>\n",
       "      <td>0.8</td>\n",
       "      <td>-0.0095</td>\n",
       "      <td>-0.0663</td>\n",
       "      <td>-0.2784</td>\n",
       "      <td>-0.1798</td>\n",
       "    </tr>\n",
       "    <tr>\n",
       "      <th>2</th>\n",
       "      <td>1962-03-28</td>\n",
       "      <td>XOM</td>\n",
       "      <td>-0.0120</td>\n",
       "      <td>0.1180</td>\n",
       "      <td>-0.5178</td>\n",
       "      <td>-0.264889</td>\n",
       "      <td>0.0</td>\n",
       "      <td>-0.0274</td>\n",
       "      <td>0.0068</td>\n",
       "      <td>-0.0997</td>\n",
       "      <td>0.2126</td>\n",
       "    </tr>\n",
       "    <tr>\n",
       "      <th>3</th>\n",
       "      <td>1962-03-28</td>\n",
       "      <td>JNJ</td>\n",
       "      <td>0.0431</td>\n",
       "      <td>0.1171</td>\n",
       "      <td>-0.8664</td>\n",
       "      <td>0.201969</td>\n",
       "      <td>0.0</td>\n",
       "      <td>-0.0253</td>\n",
       "      <td>-0.0808</td>\n",
       "      <td>-0.2972</td>\n",
       "      <td>-0.1547</td>\n",
       "    </tr>\n",
       "    <tr>\n",
       "      <th>4</th>\n",
       "      <td>1962-03-28</td>\n",
       "      <td>KO</td>\n",
       "      <td>0.0899</td>\n",
       "      <td>-0.0112</td>\n",
       "      <td>-0.2814</td>\n",
       "      <td>-0.268108</td>\n",
       "      <td>0.0</td>\n",
       "      <td>-0.0195</td>\n",
       "      <td>-0.0104</td>\n",
       "      <td>-0.2151</td>\n",
       "      <td>-0.0053</td>\n",
       "    </tr>\n",
       "  </tbody>\n",
       "</table>\n",
       "</div>"
      ],
      "text/plain": [
       "         Date ticker  20 day trend  60 day trend  Volume       RSI  Pivotal  \\\n",
       "0  1962-03-28    DIS       -0.0163        0.0075 -0.8428  0.485949      0.0   \n",
       "1  1962-03-28     AA        0.0578        0.0823 -0.0701 -0.031907      0.8   \n",
       "2  1962-03-28    XOM       -0.0120        0.1180 -0.5178 -0.264889      0.0   \n",
       "3  1962-03-28    JNJ        0.0431        0.1171 -0.8664  0.201969      0.0   \n",
       "4  1962-03-28     KO        0.0899       -0.0112 -0.2814 -0.268108      0.0   \n",
       "\n",
       "   5 day return  20 day return  60 day return  One year return  \n",
       "0        0.0068        -0.0068        -0.2561          -0.0344  \n",
       "1       -0.0095        -0.0663        -0.2784          -0.1798  \n",
       "2       -0.0274         0.0068        -0.0997           0.2126  \n",
       "3       -0.0253        -0.0808        -0.2972          -0.1547  \n",
       "4       -0.0195        -0.0104        -0.2151          -0.0053  "
      ]
     },
     "execution_count": 3,
     "metadata": {},
     "output_type": "execute_result"
    }
   ],
   "source": [
    "df.head()"
   ]
  },
  {
   "cell_type": "code",
   "execution_count": 5,
   "metadata": {},
   "outputs": [
    {
     "name": "stdout",
     "output_type": "stream",
     "text": [
      "20 day trend 5 day return -6.347121223420875e-05\n",
      "20 day trend 20 day return -0.00019608292259361664\n",
      "20 day trend 60 day return -0.0001597855992147263\n",
      "20 day trend One year return -0.00044514443345972863\n",
      "60 day trend 5 day return -0.0002611858597985608\n",
      "60 day trend 20 day return -0.00019411973809486707\n",
      "60 day trend 60 day return -4.29616983268395e-05\n",
      "60 day trend One year return -0.0009138137904129189\n",
      "Volume 5 day return -0.0001204852513625732\n",
      "Volume 20 day return -0.0008379544290580258\n",
      "Volume 60 day return -0.00047140152512578426\n",
      "Volume One year return -0.00038553660634265503\n",
      "RSI 5 day return 0.008288227550312836\n",
      "RSI 20 day return 0.0035587208151089548\n",
      "RSI 60 day return 0.004079502918059505\n",
      "RSI One year return 0.0018106323397997228\n",
      "Pivotal 5 day return -0.0005017918120171116\n",
      "Pivotal 20 day return -0.0008385225364276943\n",
      "Pivotal 60 day return -0.001387852274432502\n",
      "Pivotal One year return -0.000980933042998581\n"
     ]
    }
   ],
   "source": [
    "for i in [\"20 day trend\", \"60 day trend\", \"Volume\", \"RSI\", \"Pivotal\"]:\n",
    "    for j in [\"5 day return\", \"20 day return\", \"60 day return\", \"One year return\"]:\n",
    "        print(i, j, df[i].corr(df[j]))"
   ]
  }
 ],
 "metadata": {
  "interpreter": {
   "hash": "c375e0838672f6e9fca92a5933864edf199d06c1efdd3d4c3a8ad28cf0ad99f9"
  },
  "kernelspec": {
   "display_name": "Python 3.8.12 64-bit ('wharton': conda)",
   "language": "python",
   "name": "python3"
  },
  "language_info": {
   "codemirror_mode": {
    "name": "ipython",
    "version": 3
   },
   "file_extension": ".py",
   "mimetype": "text/x-python",
   "name": "python",
   "nbconvert_exporter": "python",
   "pygments_lexer": "ipython3",
   "version": "3.8.12"
  },
  "orig_nbformat": 4
 },
 "nbformat": 4,
 "nbformat_minor": 2
}
